{
 "cells": [
  {
   "cell_type": "markdown",
   "metadata": {
    "id": "TtSXRlMdWL6o"
   },
   "source": [
    "# Pneumonia Identification Project"
   ]
  },
  {
   "cell_type": "markdown",
   "metadata": {
    "id": "HpgbqPRI4ybd"
   },
   "source": []
  },
  {
   "cell_type": "markdown",
   "metadata": {
    "id": "IICdlVh-Fbdy"
   },
   "source": [
    "# Business and Data Understanding\n"
   ]
  },
  {
   "cell_type": "markdown",
   "metadata": {
    "id": "u3pEUljI6L4M"
   },
   "source": [
    "According to the World Health Organization <https://www.who.int/health-topics/pneumonia/#tab=tab_1>, pneumonia is an acute respiratory infection that inflames the air sacs (alveoli) in one or both lungs. It can be caused by bacteria, viruses, or fungi making breathing difficult and reducing oxygen intake. It affects people of all ages but is especially dangerous for young children, older adults, and people with weakened immune systems. Despite the advances in science and medicine, pneumonia remains a major cause of mortality worldwide. In 2021, Pneumonia caused 2.18 million deaths globally, mainly in children younger than 5 years and adults over 70 years, and in those who are susceptible The lancet < https://www.thelancet.com/journals/lanres/article/PIIS2213-2600(25)00087-6/fulltext?utm_source>. With the development and use of an image classification neural network learning algorithm, it may be possible to detect pneumonia in young children and elderly adults in its early stages possibly leading to prompt treatment.\n",
    "\n",
    "The data used for this project was retrieved from Kaggle datasets Chest X-Ray Images < https://www.kaggle.com/datasets/paultimothymooney/chest-xray-pneumonia> this dataset is comprised of 5863 x-ray images divided between two classes, “Normal”, and “Pneumonia”. The chest X-ray images in the dataset were selected from pediatric patients of one to five years old from Guangzhou Women and Children’s Medical Center.\n"
   ]
  },
  {
   "cell_type": "markdown",
   "metadata": {
    "id": "SIX5WN8jW_07"
   },
   "source": [
    "# Data preparation"
   ]
  },
  {
   "cell_type": "markdown",
   "metadata": {
    "id": "DKwFNo5DzD3O"
   },
   "source": [
    "For data preparation, I first used ImageDataGenerator tool to import all data. I used this tool because it would allow me to add random data augmentation parameters such as flips, rotations, etc. to the training data essentially creating synthetic data implementing a way to lower model bias. In the total data, there are 4506 images of pneumonia positive images while there are only 1350 images of pneumonia negative meaning that the data is heavily weighted towards pneumonia positive and as such can lead to severe model bias.\n",
    "\n",
    "After I've imported all of my data, I reshaped the data essentially un-rowing the data to fit the model structural requirements of multiplying the image dimensions and image RGB layers (64 * 64 * 3). To complete my data preparations, I normalize the data bringing the data to a 0 to 1 scale to ensure all features are on a similar scale."
   ]
  },
  {
   "cell_type": "code",
   "execution_count": null,
   "metadata": {
    "collapsed": true,
    "id": "mYMxBnCjFI2G"
   },
   "outputs": [],
   "source": [
    "# For Google Colab only\n",
    "# Cell output cleared as it only contains installation progress information\n",
    "!pip install keras\n",
    "!pip install keras_preprocessing\n",
    "!pip install tensorflow\n",
    "!pip install scikeras[tensorflow]"
   ]
  },
  {
   "cell_type": "code",
   "execution_count": 1,
   "metadata": {
    "id": "a2-LvH9ZUjzI"
   },
   "outputs": [],
   "source": [
    "# Importing tools and modules\n",
    "from tensorflow import keras\n",
    "from keras_preprocessing.image import ImageDataGenerator\n",
    "from keras_preprocessing.image import array_to_img, img_to_array, load_img\n",
    "import numpy as np"
   ]
  },
  {
   "cell_type": "code",
   "execution_count": 2,
   "metadata": {
    "id": "tnVzXM-3YimV"
   },
   "outputs": [],
   "source": [
    "# Linking directory path\n",
    "train_data_dir = 'data/chest_xray/train'\n",
    "test_data_dir = 'data/chest_xray/test'\n",
    "val_data_dir = 'data/chest_xray/val'"
   ]
  },
  {
   "cell_type": "code",
   "execution_count": 3,
   "metadata": {
    "id": "5luhSlT1DZG_"
   },
   "outputs": [],
   "source": [
    "# Variable to add random data augmentations when importing\n",
    "datagen = ImageDataGenerator(horizontal_flip=True,\n",
    "                             vertical_flip=True,\n",
    "                             rotation_range=25,\n",
    "                             fill_mode='nearest')"
   ]
  },
  {
   "cell_type": "code",
   "execution_count": 4,
   "metadata": {
    "colab": {
     "base_uri": "https://localhost:8080/"
    },
    "id": "OnIuRRr1Yipc",
    "outputId": "6a99f72d-cb1c-4797-82e6-167e5f409fca"
   },
   "outputs": [
    {
     "name": "stdout",
     "output_type": "stream",
     "text": [
      "Found 5000 images belonging to 2 classes.\n",
      "Found 624 images belonging to 2 classes.\n",
      "Found 232 images belonging to 2 classes.\n"
     ]
    }
   ],
   "source": [
    "# Getting train, test, and validation data from directory\n",
    "train_generator = datagen.flow_from_directory(train_data_dir, target_size=(64, 64), batch_size=5000)\n",
    "test_generator = ImageDataGenerator().flow_from_directory(test_data_dir, target_size=(64, 64), batch_size=624)\n",
    "val_generator = ImageDataGenerator().flow_from_directory(val_data_dir, target_size=(64, 64), batch_size=232)"
   ]
  },
  {
   "cell_type": "code",
   "execution_count": 5,
   "metadata": {
    "id": "9ZAvtEeYdj_f"
   },
   "outputs": [],
   "source": [
    "# Creating datasets (may take about 10 min as large dataset)\n",
    "train_images, train_labels = next(train_generator)\n",
    "test_images, test_labels = next(test_generator)\n",
    "val_images, val_labels = next(val_generator)"
   ]
  },
  {
   "cell_type": "code",
   "execution_count": 6,
   "metadata": {
    "colab": {
     "base_uri": "https://localhost:8080/"
    },
    "id": "-MHyet8QBx1Q",
    "outputId": "48295743-3b37-4b65-8814-ec8ef01a8271"
   },
   "outputs": [
    {
     "name": "stdout",
     "output_type": "stream",
     "text": [
      "(5000, 64, 64, 3)\n",
      "(5000, 2)\n",
      "(624, 64, 64, 3)\n",
      "(624, 2)\n",
      "(232, 64, 64, 3)\n",
      "(232, 2)\n"
     ]
    }
   ],
   "source": [
    "print(np.shape(train_images))\n",
    "print(np.shape(train_labels))\n",
    "print(np.shape(test_images))\n",
    "print(np.shape(test_labels))\n",
    "print(np.shape(val_images))\n",
    "print(np.shape(val_labels))"
   ]
  },
  {
   "cell_type": "code",
   "execution_count": 7,
   "metadata": {
    "id": "filwqSGWdkMX"
   },
   "outputs": [],
   "source": [
    "# Reshaping data\n",
    "train_img_unrow = train_images.reshape(5000,-1)\n",
    "test_img_unrow = test_images.reshape(624,-1)\n",
    "val_img_unrow = val_images.reshape(232,-1)"
   ]
  },
  {
   "cell_type": "code",
   "execution_count": 8,
   "metadata": {
    "colab": {
     "base_uri": "https://localhost:8080/"
    },
    "id": "rCxUEzK5K6aK",
    "outputId": "485ae256-6330-4c91-fc08-1f65133474f1"
   },
   "outputs": [
    {
     "name": "stdout",
     "output_type": "stream",
     "text": [
      "(5000, 12288)\n",
      "(624, 12288)\n",
      "(232, 12288)\n"
     ]
    }
   ],
   "source": [
    "# Checking data shape\n",
    "print(np.shape(train_img_unrow))\n",
    "print(np.shape(test_img_unrow))\n",
    "print(np.shape(val_img_unrow))"
   ]
  },
  {
   "cell_type": "code",
   "execution_count": 9,
   "metadata": {
    "id": "jHUsZS1RdkT2"
   },
   "outputs": [],
   "source": [
    "# Normalizing data\n",
    "train_img_final = train_img_unrow/255.0\n",
    "test_img_final = test_img_unrow/255.0\n",
    "val_img_final = val_img_unrow/255.0"
   ]
  },
  {
   "cell_type": "markdown",
   "metadata": {
    "id": "lF3qsQmOXEZ7"
   },
   "source": [
    "# Modeling"
   ]
  },
  {
   "cell_type": "markdown",
   "metadata": {
    "id": "UNER6p_2zHSR"
   },
   "source": [
    "For the image classification neural network, model I imported tools and libraries from Tensorflow primarily Keras tools. To build the models I used Sequential due to its simplicity input to output linear stack model structure. To help with model tuning, I used an early stop method to track the model’s validation loss and stop the model if the validation loss no longer decreased or if it increased consecutively. I also implemented learning rate adjustments in the later models by reducing the learning rate of the model whenever validation accuracy results would plateau or decrease consecutively.\n",
    "\n",
    "Due to the data’s heavy class imbalance, the model would often overfit, so to lower overfitting as best as possible I implemented dropout layers to randomly drop nodes in the model. Another method I took to lower overfitting was adding L2 kernel regularizers so to penalize the excessive pneumonia weight from the class imbalance."
   ]
  },
  {
   "cell_type": "code",
   "execution_count": 10,
   "metadata": {
    "id": "1oS-QfOqJ9pQ"
   },
   "outputs": [],
   "source": [
    "# Importing modeling tools and modules\n",
    "import tensorflow as tf\n",
    "from tensorflow.keras import layers, models, regularizers\n",
    "from tensorflow.keras.models import Sequential\n",
    "from tensorflow.keras.layers import Dense, Dropout\n",
    "from tensorflow.keras.regularizers import l2\n",
    "from tensorflow.keras.optimizers import Adam\n",
    "from tensorflow.keras.callbacks import EarlyStopping, ReduceLROnPlateau\n",
    "\n",
    "from sklearn.metrics import confusion_matrix, ConfusionMatrixDisplay\n",
    "import matplotlib.pyplot as plt\n",
    "import matplotlib.image as mpimg\n",
    "import seaborn as sns"
   ]
  },
  {
   "cell_type": "code",
   "execution_count": 11,
   "metadata": {
    "id": "C44SHgCIhRfj"
   },
   "outputs": [],
   "source": [
    "# Function to quickly plot model results\n",
    "def plot_results(model_results):\n",
    "    \"\"\"\n",
    "    This function will take in the results of a model and plot the loss and accuracy of the model.\n",
    "\n",
    "    Args:\n",
    "    model_results (list): the results of the model in [] brackets.\n",
    "    \"\"\"\n",
    "    for results in model_results:\n",
    "        train_loss = results.history['loss']\n",
    "        train_acc = results.history['accuracy']\n",
    "        val_loss = results.history['val_loss']\n",
    "        val_acc = results.history['val_accuracy']\n",
    "\n",
    "        fig, (ax1, ax2) = plt.subplots(1, 2, figsize=(10, 5))\n",
    "        sns.lineplot(x=results.epoch, y=train_loss, ax=ax1, label='train_loss')\n",
    "        sns.lineplot(x=results.epoch, y=train_acc, ax=ax2, label='train_accuracy')\n",
    "\n",
    "        sns.lineplot(x=results.epoch, y=val_loss, ax=ax1, label='val_loss')\n",
    "        sns.lineplot(x=results.epoch, y=val_acc, ax=ax2, label='val_accuracy')\n",
    "        ax1.set_title('Loss')\n",
    "        ax2.set_title('Accuracy')\n",
    "        ax1.legend();"
   ]
  },
  {
   "cell_type": "code",
   "execution_count": 12,
   "metadata": {
    "id": "MCOiOvXdsa0r"
   },
   "outputs": [],
   "source": [
    "# Function to quickly print out model evaluation for mulitple data sets\n",
    "def model_evaluation(model, data_dict):\n",
    "    \"\"\"\n",
    "    This function takes in a sequential model as a well as a dictionary of data and\n",
    "    prints out the model evaluation results.\n",
    "\n",
    "    Arguments:\n",
    "    model: A trained model with .evaluate() capabilities\n",
    "    data_dict: A dictionary where Keys are dataset names and Values are tuples (X, y) for data and labels.\n",
    "    \"\"\"\n",
    "    for name, (X, y) in data_dict.items():\n",
    "        loss, acc = model.evaluate(X, y)\n",
    "\n",
    "        print(f'{name}, Loss: {loss:.4f}, Accuracy: {acc:.4f}')"
   ]
  },
  {
   "cell_type": "code",
   "execution_count": 13,
   "metadata": {
    "id": "qyLaTGd9sao3"
   },
   "outputs": [],
   "source": [
    "# Creating dictionary for train, test, validation data\n",
    "data_dict = {\n",
    "    'Train Data': (train_images, train_labels),\n",
    "    'Test Data': (test_images, test_labels),\n",
    "    'Val Data': (val_images, val_labels)\n",
    "}"
   ]
  },
  {
   "cell_type": "code",
   "execution_count": 14,
   "metadata": {
    "id": "iO1_GvQksfLa"
   },
   "outputs": [],
   "source": [
    "# Creating dictionary for normalized train, test, validation data\n",
    "data_dict_norm = {\n",
    "    'Train Data': (train_img_final, train_labels),\n",
    "    'Test Data': (test_img_final, test_labels),\n",
    "    'Val Data': (val_img_final, val_labels)\n",
    "}"
   ]
  },
  {
   "cell_type": "markdown",
   "metadata": {
    "id": "yiyVfLZ9wlai"
   },
   "source": [
    "### Model 1"
   ]
  },
  {
   "cell_type": "code",
   "execution_count": 15,
   "metadata": {
    "id": "c8Qpn2hCXHrL"
   },
   "outputs": [],
   "source": [
    "model_1 = Sequential()"
   ]
  },
  {
   "cell_type": "code",
   "execution_count": 16,
   "metadata": {
    "id": "8Nx3fHpBdiEK"
   },
   "outputs": [],
   "source": [
    "model_1.add(layers.Input(shape=(12288,)))\n",
    "model_1.add(Dense(50, activation='relu'))\n",
    "model_1.add(Dense(25, activation='relu'))\n",
    "model_1.add(Dense(10, activation='relu'))\n",
    "model_1.add(Dense(2, activation='softmax'))"
   ]
  },
  {
   "cell_type": "code",
   "execution_count": 17,
   "metadata": {
    "id": "Ohih92fgdiG7"
   },
   "outputs": [],
   "source": [
    "model_1.compile(optimizer='adam', loss='categorical_crossentropy', metrics=['accuracy'])"
   ]
  },
  {
   "cell_type": "code",
   "execution_count": 18,
   "metadata": {
    "colab": {
     "base_uri": "https://localhost:8080/"
    },
    "id": "zZAlRdUkdiJw",
    "outputId": "5f2d6cee-b813-42b1-b67b-300231ce063c"
   },
   "outputs": [
    {
     "name": "stdout",
     "output_type": "stream",
     "text": [
      "Epoch 1/10\n",
      "40/40 [==============================] - 0s 6ms/step - loss: 0.9987 - accuracy: 0.6802 - val_loss: 0.5587 - val_accuracy: 0.6940\n",
      "Epoch 2/10\n",
      "40/40 [==============================] - 0s 3ms/step - loss: 0.3834 - accuracy: 0.8340 - val_loss: 0.6534 - val_accuracy: 0.6034\n",
      "Epoch 3/10\n",
      "40/40 [==============================] - 0s 4ms/step - loss: 0.3365 - accuracy: 0.8536 - val_loss: 0.4341 - val_accuracy: 0.8017\n",
      "Epoch 4/10\n",
      "40/40 [==============================] - 0s 3ms/step - loss: 0.3060 - accuracy: 0.8702 - val_loss: 0.4790 - val_accuracy: 0.7414\n",
      "Epoch 5/10\n",
      "40/40 [==============================] - 0s 4ms/step - loss: 0.3028 - accuracy: 0.8688 - val_loss: 0.5320 - val_accuracy: 0.7241\n",
      "Epoch 6/10\n",
      "40/40 [==============================] - 0s 3ms/step - loss: 0.2781 - accuracy: 0.8786 - val_loss: 0.4213 - val_accuracy: 0.7716\n",
      "Epoch 7/10\n",
      "40/40 [==============================] - 0s 3ms/step - loss: 0.2591 - accuracy: 0.8926 - val_loss: 0.7623 - val_accuracy: 0.6250\n",
      "Epoch 8/10\n",
      "40/40 [==============================] - 0s 3ms/step - loss: 0.2580 - accuracy: 0.8936 - val_loss: 0.4599 - val_accuracy: 0.7629\n",
      "Epoch 9/10\n",
      "40/40 [==============================] - 0s 3ms/step - loss: 0.2443 - accuracy: 0.8990 - val_loss: 0.6325 - val_accuracy: 0.6983\n",
      "Epoch 10/10\n",
      "40/40 [==============================] - 0s 4ms/step - loss: 0.2563 - accuracy: 0.8876 - val_loss: 0.3682 - val_accuracy: 0.8621\n"
     ]
    }
   ],
   "source": [
    "model_1_results = model_1.fit(train_img_final, train_labels,\n",
    "                              epochs=10,\n",
    "                              batch_size=125,\n",
    "                              validation_data=(val_img_final, val_labels))"
   ]
  },
  {
   "cell_type": "code",
   "execution_count": 19,
   "metadata": {
    "colab": {
     "base_uri": "https://localhost:8080/",
     "height": 468
    },
    "id": "B_MjcoUtFzZQ",
    "outputId": "589386ca-194a-478a-df82-2a626ac2c0f7"
   },
   "outputs": [
    {
     "data": {
      "image/png": "[encoded data removed]",
      "text/plain": [
       "<Figure size 720x360 with 2 Axes>"
      ]
     },
     "metadata": {
      "needs_background": "light"
     },
     "output_type": "display_data"
    }
   ],
   "source": [
    "plot_results([model_1_results])"
   ]
  },
  {
   "cell_type": "code",
   "execution_count": 20,
   "metadata": {
    "colab": {
     "base_uri": "https://localhost:8080/"
    },
    "id": "r0n9IZ5BtGBK",
    "outputId": "d6d40e22-99bc-4a6b-f72a-002bd32c612d"
   },
   "outputs": [
    {
     "name": "stdout",
     "output_type": "stream",
     "text": [
      "157/157 [==============================] - 0s 625us/step - loss: 0.2199 - accuracy: 0.9102\n",
      "Train Data, Loss: 0.2199, Accuracy: 0.9102\n",
      "20/20 [==============================] - 0s 600us/step - loss: 0.4488 - accuracy: 0.7853\n",
      "Test Data, Loss: 0.4488, Accuracy: 0.7853\n",
      "8/8 [==============================] - 0s 500us/step - loss: 0.3682 - accuracy: 0.8621\n",
      "Val Data, Loss: 0.3682, Accuracy: 0.8621\n"
     ]
    }
   ],
   "source": [
    "model_evaluation(model_1, data_dict_norm)"
   ]
  },
  {
   "cell_type": "markdown",
   "metadata": {
    "id": "gHmmB9JZwpUm"
   },
   "source": [
    "### Model 2"
   ]
  },
  {
   "cell_type": "code",
   "execution_count": 21,
   "metadata": {
    "id": "i01mtpuYdiMa"
   },
   "outputs": [],
   "source": [
    "model_2 = Sequential()"
   ]
  },
  {
   "cell_type": "code",
   "execution_count": 22,
   "metadata": {
    "id": "hSVFDSF3diPB"
   },
   "outputs": [],
   "source": [
    "model_2.add(layers.Input(shape=(12288,)))\n",
    "model_2.add(Dense(50, activation='relu'))\n",
    "model_2.add(Dense(25, activation='relu'))\n",
    "model_2.add(Dropout(0.5))\n",
    "model_2.add(Dense(10, activation='relu'))\n",
    "model_2.add(Dropout(0.2))\n",
    "model_2.add(Dense(2, activation='softmax'))"
   ]
  },
  {
   "cell_type": "code",
   "execution_count": 23,
   "metadata": {
    "id": "vtEQfz_kdiRx"
   },
   "outputs": [],
   "source": [
    "model_2.compile(optimizer='adam', loss='categorical_crossentropy', metrics=['accuracy'])"
   ]
  },
  {
   "cell_type": "code",
   "execution_count": 24,
   "metadata": {
    "id": "RhMkYQeFXvgf"
   },
   "outputs": [],
   "source": [
    "# Creating reduce learning rate callback variable\n",
    "reduce_lr = ReduceLROnPlateau(monitor='val_accuracy', factor=0.2, patience=2, min_lr=1e-5)"
   ]
  },
  {
   "cell_type": "code",
   "execution_count": 25,
   "metadata": {
    "colab": {
     "base_uri": "https://localhost:8080/"
    },
    "id": "IIsSLRYWdiUo",
    "outputId": "96197b28-193c-4f1d-963c-8964ab41fd1a"
   },
   "outputs": [
    {
     "name": "stdout",
     "output_type": "stream",
     "text": [
      "Epoch 1/50\n",
      "17/17 [==============================] - 0s 9ms/step - loss: 1.2994 - accuracy: 0.6640 - val_loss: 0.7018 - val_accuracy: 0.5000\n",
      "Epoch 2/50\n",
      "17/17 [==============================] - 0s 6ms/step - loss: 0.6065 - accuracy: 0.7254 - val_loss: 0.6329 - val_accuracy: 0.5086\n",
      "Epoch 3/50\n",
      "17/17 [==============================] - 0s 6ms/step - loss: 0.5023 - accuracy: 0.7608 - val_loss: 0.6129 - val_accuracy: 0.5690\n",
      "Epoch 4/50\n",
      "17/17 [==============================] - 0s 6ms/step - loss: 0.4488 - accuracy: 0.7858 - val_loss: 0.6115 - val_accuracy: 0.5905\n",
      "Epoch 5/50\n",
      "17/17 [==============================] - 0s 6ms/step - loss: 0.4301 - accuracy: 0.8014 - val_loss: 0.5017 - val_accuracy: 0.7629\n",
      "Epoch 6/50\n",
      "17/17 [==============================] - 0s 6ms/step - loss: 0.4118 - accuracy: 0.8056 - val_loss: 0.5408 - val_accuracy: 0.7284\n",
      "Epoch 7/50\n",
      "17/17 [==============================] - 0s 6ms/step - loss: 0.3952 - accuracy: 0.8206 - val_loss: 0.5577 - val_accuracy: 0.6983\n",
      "Epoch 8/50\n",
      "17/17 [==============================] - 0s 6ms/step - loss: 0.3751 - accuracy: 0.8328 - val_loss: 0.4344 - val_accuracy: 0.8362\n",
      "Epoch 9/50\n",
      "17/17 [==============================] - 0s 7ms/step - loss: 0.3660 - accuracy: 0.8346 - val_loss: 0.5376 - val_accuracy: 0.7371\n",
      "Epoch 10/50\n",
      "17/17 [==============================] - 0s 6ms/step - loss: 0.3530 - accuracy: 0.8480 - val_loss: 0.4785 - val_accuracy: 0.7586\n",
      "Epoch 11/50\n",
      "17/17 [==============================] - 0s 6ms/step - loss: 0.3424 - accuracy: 0.8512 - val_loss: 0.4475 - val_accuracy: 0.7974\n",
      "Epoch 12/50\n",
      "17/17 [==============================] - 0s 6ms/step - loss: 0.3403 - accuracy: 0.8470 - val_loss: 0.4838 - val_accuracy: 0.7586\n",
      "Epoch 13/50\n",
      "17/17 [==============================] - 0s 6ms/step - loss: 0.3404 - accuracy: 0.8514 - val_loss: 0.4607 - val_accuracy: 0.7845\n",
      "Epoch 14/50\n",
      "17/17 [==============================] - 0s 6ms/step - loss: 0.3426 - accuracy: 0.8488 - val_loss: 0.4653 - val_accuracy: 0.7759\n",
      "Epoch 15/50\n",
      "17/17 [==============================] - 0s 6ms/step - loss: 0.3360 - accuracy: 0.8552 - val_loss: 0.4698 - val_accuracy: 0.7716\n",
      "Epoch 16/50\n",
      "17/17 [==============================] - 0s 6ms/step - loss: 0.3435 - accuracy: 0.8514 - val_loss: 0.4647 - val_accuracy: 0.7759\n",
      "Epoch 17/50\n",
      "17/17 [==============================] - 0s 6ms/step - loss: 0.3430 - accuracy: 0.8510 - val_loss: 0.4595 - val_accuracy: 0.7888\n",
      "Epoch 18/50\n",
      "17/17 [==============================] - 0s 7ms/step - loss: 0.3404 - accuracy: 0.8466 - val_loss: 0.4698 - val_accuracy: 0.7716\n",
      "Epoch 19/50\n",
      "17/17 [==============================] - 0s 6ms/step - loss: 0.3352 - accuracy: 0.8540 - val_loss: 0.4730 - val_accuracy: 0.7672\n",
      "Epoch 20/50\n",
      "17/17 [==============================] - 0s 6ms/step - loss: 0.3381 - accuracy: 0.8540 - val_loss: 0.4608 - val_accuracy: 0.7759\n",
      "Epoch 21/50\n",
      "17/17 [==============================] - 0s 6ms/step - loss: 0.3411 - accuracy: 0.8524 - val_loss: 0.4635 - val_accuracy: 0.7802\n",
      "Epoch 22/50\n",
      "17/17 [==============================] - 0s 6ms/step - loss: 0.3336 - accuracy: 0.8592 - val_loss: 0.4669 - val_accuracy: 0.7716\n",
      "Epoch 23/50\n",
      "17/17 [==============================] - 0s 6ms/step - loss: 0.3327 - accuracy: 0.8532 - val_loss: 0.4540 - val_accuracy: 0.7931\n",
      "Epoch 24/50\n",
      "17/17 [==============================] - 0s 6ms/step - loss: 0.3330 - accuracy: 0.8560 - val_loss: 0.4706 - val_accuracy: 0.7716\n",
      "Epoch 25/50\n",
      "17/17 [==============================] - 0s 6ms/step - loss: 0.3396 - accuracy: 0.8568 - val_loss: 0.4575 - val_accuracy: 0.7888\n",
      "Epoch 26/50\n",
      "17/17 [==============================] - 0s 6ms/step - loss: 0.3320 - accuracy: 0.8574 - val_loss: 0.4558 - val_accuracy: 0.7931\n",
      "Epoch 27/50\n",
      "17/17 [==============================] - 0s 8ms/step - loss: 0.3302 - accuracy: 0.8606 - val_loss: 0.4540 - val_accuracy: 0.7931\n",
      "Epoch 28/50\n",
      "17/17 [==============================] - 0s 6ms/step - loss: 0.3385 - accuracy: 0.8552 - val_loss: 0.4667 - val_accuracy: 0.7716\n",
      "Epoch 29/50\n",
      "17/17 [==============================] - 0s 6ms/step - loss: 0.3394 - accuracy: 0.8504 - val_loss: 0.4674 - val_accuracy: 0.7716\n",
      "Epoch 30/50\n",
      "17/17 [==============================] - 0s 6ms/step - loss: 0.3321 - accuracy: 0.8540 - val_loss: 0.4551 - val_accuracy: 0.7888\n",
      "Epoch 31/50\n",
      "17/17 [==============================] - 0s 6ms/step - loss: 0.3343 - accuracy: 0.8558 - val_loss: 0.4604 - val_accuracy: 0.7802\n",
      "Epoch 32/50\n",
      "17/17 [==============================] - 0s 6ms/step - loss: 0.3316 - accuracy: 0.8508 - val_loss: 0.4588 - val_accuracy: 0.7888\n",
      "Epoch 33/50\n",
      "17/17 [==============================] - 0s 6ms/step - loss: 0.3431 - accuracy: 0.8484 - val_loss: 0.4558 - val_accuracy: 0.7888\n",
      "Epoch 34/50\n",
      "17/17 [==============================] - 0s 6ms/step - loss: 0.3376 - accuracy: 0.8490 - val_loss: 0.4577 - val_accuracy: 0.7888\n",
      "Epoch 35/50\n",
      "17/17 [==============================] - 0s 6ms/step - loss: 0.3335 - accuracy: 0.8546 - val_loss: 0.4689 - val_accuracy: 0.7716\n",
      "Epoch 36/50\n",
      "17/17 [==============================] - 0s 8ms/step - loss: 0.3366 - accuracy: 0.8528 - val_loss: 0.4431 - val_accuracy: 0.7931\n",
      "Epoch 37/50\n",
      "17/17 [==============================] - 0s 6ms/step - loss: 0.3342 - accuracy: 0.8502 - val_loss: 0.4568 - val_accuracy: 0.7888\n",
      "Epoch 38/50\n",
      "17/17 [==============================] - 0s 6ms/step - loss: 0.3418 - accuracy: 0.8478 - val_loss: 0.4624 - val_accuracy: 0.7759\n",
      "Epoch 39/50\n",
      "17/17 [==============================] - 0s 6ms/step - loss: 0.3326 - accuracy: 0.8492 - val_loss: 0.4606 - val_accuracy: 0.7845\n",
      "Epoch 40/50\n",
      "17/17 [==============================] - 0s 6ms/step - loss: 0.3386 - accuracy: 0.8486 - val_loss: 0.4651 - val_accuracy: 0.7759\n",
      "Epoch 41/50\n",
      "17/17 [==============================] - 0s 6ms/step - loss: 0.3279 - accuracy: 0.8526 - val_loss: 0.4536 - val_accuracy: 0.7888\n",
      "Epoch 42/50\n",
      "17/17 [==============================] - 0s 6ms/step - loss: 0.3316 - accuracy: 0.8538 - val_loss: 0.4643 - val_accuracy: 0.7716\n",
      "Epoch 43/50\n",
      "17/17 [==============================] - 0s 6ms/step - loss: 0.3362 - accuracy: 0.8508 - val_loss: 0.4603 - val_accuracy: 0.7845\n",
      "Epoch 44/50\n",
      "17/17 [==============================] - 0s 6ms/step - loss: 0.3349 - accuracy: 0.8538 - val_loss: 0.4569 - val_accuracy: 0.7888\n",
      "Epoch 45/50\n",
      "17/17 [==============================] - 0s 8ms/step - loss: 0.3331 - accuracy: 0.8568 - val_loss: 0.4615 - val_accuracy: 0.7759\n",
      "Epoch 46/50\n",
      "17/17 [==============================] - 0s 6ms/step - loss: 0.3313 - accuracy: 0.8558 - val_loss: 0.4494 - val_accuracy: 0.7888\n",
      "Epoch 47/50\n",
      "17/17 [==============================] - 0s 6ms/step - loss: 0.3306 - accuracy: 0.8558 - val_loss: 0.4555 - val_accuracy: 0.7888\n",
      "Epoch 48/50\n",
      "17/17 [==============================] - 0s 6ms/step - loss: 0.3293 - accuracy: 0.8574 - val_loss: 0.4543 - val_accuracy: 0.7888\n",
      "Epoch 49/50\n",
      "17/17 [==============================] - 0s 6ms/step - loss: 0.3359 - accuracy: 0.8512 - val_loss: 0.4503 - val_accuracy: 0.7888\n",
      "Epoch 50/50\n",
      "17/17 [==============================] - 0s 5ms/step - loss: 0.3221 - accuracy: 0.8620 - val_loss: 0.4651 - val_accuracy: 0.7845\n"
     ]
    }
   ],
   "source": [
    "model_2_results = model_2.fit(train_img_final, train_labels,\n",
    "                              epochs=50,\n",
    "                              batch_size=300,\n",
    "                              validation_data=(val_img_final, val_labels),\n",
    "                              callbacks=[reduce_lr])"
   ]
  },
  {
   "cell_type": "code",
   "execution_count": 26,
   "metadata": {
    "colab": {
     "base_uri": "https://localhost:8080/",
     "height": 468
    },
    "id": "7JqcmgEXF4nm",
    "outputId": "5a50b995-a3bd-4e04-ca80-fed5f5a61623"
   },
   "outputs": [
    {
     "data": {
      "image/png": "[encoded data removed]",
      "text/plain": [
       "<Figure size 720x360 with 2 Axes>"
      ]
     },
     "metadata": {
      "needs_background": "light"
     },
     "output_type": "display_data"
    }
   ],
   "source": [
    "plot_results([model_2_results])"
   ]
  },
  {
   "cell_type": "code",
   "execution_count": 27,
   "metadata": {
    "colab": {
     "base_uri": "https://localhost:8080/"
    },
    "id": "8vFI3xlat8R2",
    "outputId": "4cdfef97-e2ce-49c4-f26b-0f81edd323c1"
   },
   "outputs": [
    {
     "name": "stdout",
     "output_type": "stream",
     "text": [
      "157/157 [==============================] - 0s 611us/step - loss: 0.2743 - accuracy: 0.8932\n",
      "Train Data, Loss: 0.2743, Accuracy: 0.8932\n",
      "20/20 [==============================] - 0s 600us/step - loss: 0.4120 - accuracy: 0.8157\n",
      "Test Data, Loss: 0.4120, Accuracy: 0.8157\n",
      "8/8 [==============================] - 0s 1ms/step - loss: 0.4651 - accuracy: 0.7845\n",
      "Val Data, Loss: 0.4651, Accuracy: 0.7845\n"
     ]
    }
   ],
   "source": [
    "model_evaluation(model_2, data_dict_norm)"
   ]
  },
  {
   "cell_type": "markdown",
   "metadata": {
    "id": "miqNjWw9wsYn"
   },
   "source": [
    "### Model 3"
   ]
  },
  {
   "cell_type": "code",
   "execution_count": 33,
   "metadata": {
    "id": "TDLjrRCHMNYY"
   },
   "outputs": [],
   "source": [
    "model_3 = Sequential()"
   ]
  },
  {
   "cell_type": "code",
   "execution_count": 34,
   "metadata": {
    "id": "C1vhsxXDMNbK"
   },
   "outputs": [],
   "source": [
    "model_3.add(layers.Input(shape=(12288,)))\n",
    "model_3.add(Dense(50, activation='relu'))\n",
    "model_3.add(Dense(50, activation='relu', kernel_regularizer=l2(0.5)))\n",
    "model_3.add(Dropout(0.5))\n",
    "model_3.add(Dense(25, activation='relu'))\n",
    "model_3.add(Dense(25, activation='relu', kernel_regularizer=l2(l2=0.25)))\n",
    "model_3.add(Dropout(0.2))\n",
    "model_3.add(Dense(10, activation='relu'))\n",
    "model_3.add(Dense(2, activation='softmax'))"
   ]
  },
  {
   "cell_type": "code",
   "execution_count": 35,
   "metadata": {
    "id": "CiKI2YegMNd-"
   },
   "outputs": [],
   "source": [
    "model_3.compile(optimizer='adam', loss='categorical_crossentropy', metrics=['accuracy'])"
   ]
  },
  {
   "cell_type": "code",
   "execution_count": 36,
   "metadata": {
    "id": "2lQBzyLjMNhA"
   },
   "outputs": [],
   "source": [
    "# Creating early stop callback variable\n",
    "early_stop = EarlyStopping(monitor='val_loss', patience=5, restore_best_weights=True)"
   ]
  },
  {
   "cell_type": "code",
   "execution_count": 37,
   "metadata": {
    "colab": {
     "base_uri": "https://localhost:8080/"
    },
    "id": "-dosEXuSMNm_",
    "outputId": "b17ccb9a-f282-4e10-cb09-7f5ac7f81274",
    "scrolled": true
   },
   "outputs": [
    {
     "name": "stdout",
     "output_type": "stream",
     "text": [
      "Epoch 1/40\n",
      "15/15 [==============================] - 0s 12ms/step - loss: 29.7799 - accuracy: 0.6736 - val_loss: 27.0822 - val_accuracy: 0.5000\n",
      "Epoch 2/40\n",
      "15/15 [==============================] - 0s 6ms/step - loss: 24.9059 - accuracy: 0.7348 - val_loss: 22.6752 - val_accuracy: 0.5000\n",
      "Epoch 3/40\n",
      "15/15 [==============================] - 0s 7ms/step - loss: 20.7801 - accuracy: 0.7528 - val_loss: 18.9342 - val_accuracy: 0.5000\n",
      "Epoch 4/40\n",
      "15/15 [==============================] - 0s 7ms/step - loss: 18.4413 - accuracy: 0.7546 - val_loss: 18.2374 - val_accuracy: 0.5000\n",
      "Epoch 5/40\n",
      "15/15 [==============================] - 0s 8ms/step - loss: 17.7774 - accuracy: 0.7566 - val_loss: 17.5543 - val_accuracy: 0.5000\n",
      "Epoch 6/40\n",
      "15/15 [==============================] - 0s 7ms/step - loss: 17.3551 - accuracy: 0.7576 - val_loss: 17.4471 - val_accuracy: 0.5000\n",
      "Epoch 7/40\n",
      "15/15 [==============================] - 0s 7ms/step - loss: 17.2217 - accuracy: 0.7576 - val_loss: 17.3062 - val_accuracy: 0.5000\n",
      "Epoch 8/40\n",
      "15/15 [==============================] - 0s 7ms/step - loss: 17.1350 - accuracy: 0.7592 - val_loss: 17.2750 - val_accuracy: 0.5000\n",
      "Epoch 9/40\n",
      "15/15 [==============================] - 0s 6ms/step - loss: 17.1085 - accuracy: 0.7564 - val_loss: 17.2452 - val_accuracy: 0.5000\n",
      "Epoch 10/40\n",
      "15/15 [==============================] - 0s 6ms/step - loss: 17.0745 - accuracy: 0.7584 - val_loss: 17.2115 - val_accuracy: 0.5000\n",
      "Epoch 11/40\n",
      "15/15 [==============================] - 0s 6ms/step - loss: 17.0409 - accuracy: 0.7576 - val_loss: 17.1808 - val_accuracy: 0.5000\n",
      "Epoch 12/40\n",
      "15/15 [==============================] - 0s 6ms/step - loss: 17.0151 - accuracy: 0.7548 - val_loss: 17.1464 - val_accuracy: 0.5000\n",
      "Epoch 13/40\n",
      "15/15 [==============================] - 0s 6ms/step - loss: 16.9709 - accuracy: 0.7564 - val_loss: 17.1099 - val_accuracy: 0.5000\n",
      "Epoch 14/40\n",
      "15/15 [==============================] - 0s 9ms/step - loss: 16.9422 - accuracy: 0.7572 - val_loss: 17.0772 - val_accuracy: 0.5000\n",
      "Epoch 15/40\n",
      "15/15 [==============================] - 0s 7ms/step - loss: 16.9089 - accuracy: 0.7556 - val_loss: 17.0446 - val_accuracy: 0.5000\n",
      "Epoch 16/40\n",
      "15/15 [==============================] - 0s 7ms/step - loss: 16.8769 - accuracy: 0.7550 - val_loss: 17.0088 - val_accuracy: 0.5000\n",
      "Epoch 17/40\n",
      "15/15 [==============================] - 0s 7ms/step - loss: 16.8397 - accuracy: 0.7562 - val_loss: 16.9769 - val_accuracy: 0.5000\n",
      "Epoch 18/40\n",
      "15/15 [==============================] - 0s 7ms/step - loss: 16.8057 - accuracy: 0.7574 - val_loss: 16.9428 - val_accuracy: 0.5000\n",
      "Epoch 19/40\n",
      "15/15 [==============================] - 0s 6ms/step - loss: 16.7716 - accuracy: 0.7598 - val_loss: 16.9094 - val_accuracy: 0.5000\n",
      "Epoch 20/40\n",
      "15/15 [==============================] - 0s 6ms/step - loss: 16.7412 - accuracy: 0.7582 - val_loss: 16.8770 - val_accuracy: 0.5000\n",
      "Epoch 21/40\n",
      "15/15 [==============================] - 0s 6ms/step - loss: 16.7066 - accuracy: 0.7564 - val_loss: 16.8404 - val_accuracy: 0.5000\n",
      "Epoch 22/40\n",
      "15/15 [==============================] - 0s 6ms/step - loss: 16.6725 - accuracy: 0.7570 - val_loss: 16.8092 - val_accuracy: 0.5000\n",
      "Epoch 23/40\n",
      "15/15 [==============================] - 0s 8ms/step - loss: 16.6366 - accuracy: 0.7576 - val_loss: 16.7718 - val_accuracy: 0.5000\n",
      "Epoch 24/40\n",
      "15/15 [==============================] - 0s 7ms/step - loss: 16.6001 - accuracy: 0.7566 - val_loss: 16.7395 - val_accuracy: 0.5000\n",
      "Epoch 25/40\n",
      "15/15 [==============================] - 0s 7ms/step - loss: 16.5683 - accuracy: 0.7578 - val_loss: 16.7039 - val_accuracy: 0.5000\n",
      "Epoch 26/40\n",
      "15/15 [==============================] - 0s 7ms/step - loss: 16.5317 - accuracy: 0.7572 - val_loss: 16.6706 - val_accuracy: 0.5000\n",
      "Epoch 27/40\n",
      "15/15 [==============================] - 0s 7ms/step - loss: 16.4972 - accuracy: 0.7578 - val_loss: 16.6389 - val_accuracy: 0.5000\n",
      "Epoch 28/40\n",
      "15/15 [==============================] - 0s 6ms/step - loss: 16.4708 - accuracy: 0.7554 - val_loss: 16.6065 - val_accuracy: 0.5000\n",
      "Epoch 29/40\n",
      "15/15 [==============================] - 0s 6ms/step - loss: 16.4345 - accuracy: 0.7570 - val_loss: 16.5717 - val_accuracy: 0.5000\n",
      "Epoch 30/40\n",
      "15/15 [==============================] - 0s 6ms/step - loss: 16.3978 - accuracy: 0.7582 - val_loss: 16.5374 - val_accuracy: 0.5000\n",
      "Epoch 31/40\n",
      "15/15 [==============================] - 0s 6ms/step - loss: 16.3674 - accuracy: 0.7578 - val_loss: 16.5026 - val_accuracy: 0.5000\n",
      "Epoch 32/40\n",
      "15/15 [==============================] - 0s 8ms/step - loss: 16.3316 - accuracy: 0.7572 - val_loss: 16.4690 - val_accuracy: 0.5000\n",
      "Epoch 33/40\n",
      "15/15 [==============================] - 0s 7ms/step - loss: 16.2991 - accuracy: 0.7578 - val_loss: 16.4318 - val_accuracy: 0.5000\n",
      "Epoch 34/40\n",
      "15/15 [==============================] - 0s 7ms/step - loss: 16.2620 - accuracy: 0.7592 - val_loss: 16.4019 - val_accuracy: 0.5000\n",
      "Epoch 35/40\n",
      "15/15 [==============================] - 0s 7ms/step - loss: 16.2287 - accuracy: 0.7560 - val_loss: 16.3729 - val_accuracy: 0.5000\n",
      "Epoch 36/40\n",
      "15/15 [==============================] - 0s 7ms/step - loss: 16.1955 - accuracy: 0.7586 - val_loss: 16.3345 - val_accuracy: 0.5000\n",
      "Epoch 37/40\n",
      "15/15 [==============================] - 0s 6ms/step - loss: 16.1653 - accuracy: 0.7578 - val_loss: 16.3000 - val_accuracy: 0.5000\n",
      "Epoch 38/40\n",
      "15/15 [==============================] - 0s 6ms/step - loss: 16.1296 - accuracy: 0.7598 - val_loss: 16.2698 - val_accuracy: 0.5000\n",
      "Epoch 39/40\n",
      "15/15 [==============================] - 0s 6ms/step - loss: 16.0951 - accuracy: 0.7588 - val_loss: 16.2394 - val_accuracy: 0.5000\n",
      "Epoch 40/40\n",
      "15/15 [==============================] - 0s 5ms/step - loss: 16.0608 - accuracy: 0.7590 - val_loss: 16.2029 - val_accuracy: 0.5000\n"
     ]
    }
   ],
   "source": [
    "model_3_results = model_3.fit(train_img_final, train_labels,\n",
    "                              epochs=40,\n",
    "                              batch_size=350,\n",
    "                              validation_data=(val_img_final, val_labels),\n",
    "                              callbacks=[reduce_lr, early_stop])"
   ]
  },
  {
   "cell_type": "code",
   "execution_count": 38,
   "metadata": {
    "colab": {
     "base_uri": "https://localhost:8080/",
     "height": 468
    },
    "id": "Xt6yOFdHGB52",
    "outputId": "5078445f-34a4-40f1-e173-c40da4f05438"
   },
   "outputs": [
    {
     "data": {
      "image/png": "[encoded data removed]",
      "text/plain": [
       "<Figure size 720x360 with 2 Axes>"
      ]
     },
     "metadata": {
      "needs_background": "light"
     },
     "output_type": "display_data"
    }
   ],
   "source": [
    "plot_results([model_3_results])"
   ]
  },
  {
   "cell_type": "code",
   "execution_count": 39,
   "metadata": {
    "colab": {
     "base_uri": "https://localhost:8080/"
    },
    "id": "vLFT_W19uTLf",
    "outputId": "32ed7d72-eb33-4ca0-b42b-349bd43ea328"
   },
   "outputs": [
    {
     "name": "stdout",
     "output_type": "stream",
     "text": [
      "157/157 [==============================] - 0s 654us/step - loss: 16.0145 - accuracy: 0.7534\n",
      "Train Data, Loss: 16.0145, Accuracy: 0.7534\n",
      "20/20 [==============================] - 0s 600us/step - loss: 16.1141 - accuracy: 0.6250\n",
      "Test Data, Loss: 16.1141, Accuracy: 0.6250\n",
      "8/8 [==============================] - 0s 500us/step - loss: 16.2029 - accuracy: 0.5000\n",
      "Val Data, Loss: 16.2029, Accuracy: 0.5000\n"
     ]
    }
   ],
   "source": [
    "model_evaluation(model_3, data_dict_norm)"
   ]
  },
  {
   "cell_type": "markdown",
   "metadata": {
    "id": "baYQr2CJwuQX"
   },
   "source": [
    "### Model 4"
   ]
  },
  {
   "cell_type": "code",
   "execution_count": 40,
   "metadata": {
    "id": "MbhY2mt2UcZF"
   },
   "outputs": [],
   "source": [
    "model_4 = Sequential()"
   ]
  },
  {
   "cell_type": "code",
   "execution_count": 41,
   "metadata": {
    "id": "YxhNhqgPUcp8"
   },
   "outputs": [],
   "source": [
    "model_4.add(layers.Input(shape=(12288,)))\n",
    "model_4.add(Dense(75, activation='relu'))\n",
    "model_4.add(Dense(50, activation='relu'))\n",
    "model_4.add(Dropout(0.5))\n",
    "model_4.add(Dense(50, activation='relu', kernel_regularizer=l2(l2=0.5)))\n",
    "model_4.add(Dense(25, activation='relu'))\n",
    "model_4.add(Dropout(0.25))\n",
    "model_4.add(Dense(25, activation='relu', kernel_regularizer=l2(l2=0.25)))\n",
    "model_4.add(Dense(10, activation='relu', kernel_regularizer=l2(l2=0.01)))\n",
    "model_4.add(Dense(2, activation='softmax'))"
   ]
  },
  {
   "cell_type": "code",
   "execution_count": 42,
   "metadata": {
    "id": "_BnmQFmGUcsv"
   },
   "outputs": [],
   "source": [
    "model_4.compile(optimizer='adam', loss='categorical_crossentropy', metrics=['accuracy'])"
   ]
  },
  {
   "cell_type": "code",
   "execution_count": 43,
   "metadata": {
    "colab": {
     "base_uri": "https://localhost:8080/"
    },
    "id": "3vq1DtcVUcvt",
    "outputId": "b7023f30-ca23-4409-c499-bec23d44bc39",
    "scrolled": true
   },
   "outputs": [
    {
     "name": "stdout",
     "output_type": "stream",
     "text": [
      "Epoch 1/50\n",
      "20/20 [==============================] - 0s 9ms/step - loss: 28.6768 - accuracy: 0.6844 - val_loss: 25.3892 - val_accuracy: 0.5000\n",
      "Epoch 2/50\n",
      "20/20 [==============================] - 0s 6ms/step - loss: 22.6031 - accuracy: 0.7504 - val_loss: 20.0296 - val_accuracy: 0.5000\n",
      "Epoch 3/50\n",
      "20/20 [==============================] - 0s 6ms/step - loss: 17.7390 - accuracy: 0.7518 - val_loss: 15.7527 - val_accuracy: 0.5000\n",
      "Epoch 4/50\n",
      "20/20 [==============================] - 0s 6ms/step - loss: 13.8741 - accuracy: 0.7536 - val_loss: 12.3256 - val_accuracy: 0.5000\n",
      "Epoch 5/50\n",
      "20/20 [==============================] - 0s 6ms/step - loss: 10.8341 - accuracy: 0.7674 - val_loss: 9.6562 - val_accuracy: 0.5000\n",
      "Epoch 6/50\n",
      "20/20 [==============================] - 0s 6ms/step - loss: 8.4519 - accuracy: 0.7884 - val_loss: 7.5669 - val_accuracy: 0.6638\n",
      "Epoch 7/50\n",
      "20/20 [==============================] - 0s 6ms/step - loss: 6.5727 - accuracy: 0.8116 - val_loss: 5.8988 - val_accuracy: 0.7931\n",
      "Epoch 8/50\n",
      "20/20 [==============================] - 0s 7ms/step - loss: 5.1014 - accuracy: 0.8692 - val_loss: 4.6198 - val_accuracy: 0.7716\n",
      "Epoch 9/50\n",
      "20/20 [==============================] - 0s 6ms/step - loss: 3.9642 - accuracy: 0.8814 - val_loss: 3.7352 - val_accuracy: 0.6853\n",
      "Epoch 10/50\n",
      "20/20 [==============================] - 0s 6ms/step - loss: 3.0879 - accuracy: 0.8766 - val_loss: 2.8080 - val_accuracy: 0.8621\n",
      "Epoch 11/50\n",
      "20/20 [==============================] - 0s 6ms/step - loss: 2.4206 - accuracy: 0.8792 - val_loss: 2.5798 - val_accuracy: 0.6379\n",
      "Epoch 12/50\n",
      "20/20 [==============================] - 0s 6ms/step - loss: 1.9096 - accuracy: 0.8856 - val_loss: 1.7762 - val_accuracy: 0.8534\n",
      "Epoch 13/50\n",
      "20/20 [==============================] - 0s 6ms/step - loss: 1.5172 - accuracy: 0.8836 - val_loss: 1.4240 - val_accuracy: 0.8578\n",
      "Epoch 14/50\n",
      "20/20 [==============================] - 0s 6ms/step - loss: 1.2189 - accuracy: 0.8898 - val_loss: 1.1880 - val_accuracy: 0.8405\n",
      "Epoch 15/50\n",
      "20/20 [==============================] - 0s 6ms/step - loss: 0.9892 - accuracy: 0.8906 - val_loss: 1.1041 - val_accuracy: 0.7759\n",
      "Epoch 16/50\n",
      "20/20 [==============================] - 0s 7ms/step - loss: 0.8184 - accuracy: 0.8956 - val_loss: 0.8618 - val_accuracy: 0.8534\n",
      "Epoch 17/50\n",
      "20/20 [==============================] - 0s 6ms/step - loss: 0.6894 - accuracy: 0.8954 - val_loss: 0.8712 - val_accuracy: 0.7586\n",
      "Epoch 18/50\n",
      "20/20 [==============================] - 0s 5ms/step - loss: 0.5949 - accuracy: 0.8978 - val_loss: 0.6383 - val_accuracy: 0.8578\n",
      "Epoch 19/50\n",
      "20/20 [==============================] - 0s 5ms/step - loss: 0.5185 - accuracy: 0.9018 - val_loss: 0.6341 - val_accuracy: 0.8448\n",
      "Epoch 20/50\n",
      "20/20 [==============================] - 0s 6ms/step - loss: 0.4710 - accuracy: 0.9010 - val_loss: 0.5468 - val_accuracy: 0.8448\n",
      "Epoch 21/50\n",
      "20/20 [==============================] - 0s 6ms/step - loss: 0.4177 - accuracy: 0.9034 - val_loss: 0.4727 - val_accuracy: 0.8793\n",
      "Epoch 22/50\n",
      "20/20 [==============================] - 0s 6ms/step - loss: 0.3960 - accuracy: 0.8976 - val_loss: 0.4874 - val_accuracy: 0.8534\n",
      "Epoch 23/50\n",
      "20/20 [==============================] - 0s 6ms/step - loss: 0.3660 - accuracy: 0.9056 - val_loss: 0.4668 - val_accuracy: 0.8578\n",
      "Epoch 24/50\n",
      "20/20 [==============================] - 0s 8ms/step - loss: 0.3459 - accuracy: 0.9054 - val_loss: 0.5097 - val_accuracy: 0.8448\n",
      "Epoch 25/50\n",
      "20/20 [==============================] - 0s 6ms/step - loss: 0.3342 - accuracy: 0.9058 - val_loss: 0.4355 - val_accuracy: 0.8621\n",
      "Epoch 26/50\n",
      "20/20 [==============================] - 0s 6ms/step - loss: 0.3176 - accuracy: 0.9090 - val_loss: 0.4268 - val_accuracy: 0.8621\n",
      "Epoch 27/50\n",
      "20/20 [==============================] - 0s 6ms/step - loss: 0.3142 - accuracy: 0.9096 - val_loss: 0.3752 - val_accuracy: 0.8750\n",
      "Epoch 28/50\n",
      "20/20 [==============================] - 0s 6ms/step - loss: 0.2973 - accuracy: 0.9112 - val_loss: 0.4050 - val_accuracy: 0.8621\n",
      "Epoch 29/50\n",
      "20/20 [==============================] - 0s 6ms/step - loss: 0.2947 - accuracy: 0.9080 - val_loss: 0.4873 - val_accuracy: 0.8233\n",
      "Epoch 30/50\n",
      "20/20 [==============================] - 0s 6ms/step - loss: 0.2977 - accuracy: 0.9072 - val_loss: 0.3610 - val_accuracy: 0.8750\n",
      "Epoch 31/50\n",
      "20/20 [==============================] - 0s 6ms/step - loss: 0.2827 - accuracy: 0.9100 - val_loss: 0.4805 - val_accuracy: 0.8362\n",
      "Epoch 32/50\n",
      "20/20 [==============================] - 0s 7ms/step - loss: 0.2767 - accuracy: 0.9166 - val_loss: 0.3929 - val_accuracy: 0.8578\n",
      "Epoch 33/50\n",
      "20/20 [==============================] - 0s 6ms/step - loss: 0.2693 - accuracy: 0.9182 - val_loss: 0.3784 - val_accuracy: 0.8578\n",
      "Epoch 34/50\n",
      "20/20 [==============================] - 0s 6ms/step - loss: 0.2713 - accuracy: 0.9142 - val_loss: 0.3954 - val_accuracy: 0.8578\n",
      "Epoch 35/50\n",
      "20/20 [==============================] - 0s 6ms/step - loss: 0.2735 - accuracy: 0.9134 - val_loss: 0.6381 - val_accuracy: 0.7586\n"
     ]
    }
   ],
   "source": [
    "model_4_results = model_4.fit(train_img_final, train_labels,\n",
    "                              epochs=50,\n",
    "                              batch_size=250,\n",
    "                              validation_data=(val_img_final, val_labels),\n",
    "                              callbacks=[early_stop])"
   ]
  },
  {
   "cell_type": "code",
   "execution_count": 44,
   "metadata": {
    "colab": {
     "base_uri": "https://localhost:8080/",
     "height": 468
    },
    "id": "fafWR4S3hRiH",
    "outputId": "23cce913-6efc-44b1-a4ee-e433f05604ed"
   },
   "outputs": [
    {
     "data": {
      "image/png": "[encoded data removed]",
      "text/plain": [
       "<Figure size 720x360 with 2 Axes>"
      ]
     },
     "metadata": {
      "needs_background": "light"
     },
     "output_type": "display_data"
    }
   ],
   "source": [
    "plot_results([model_4_results])"
   ]
  },
  {
   "cell_type": "code",
   "execution_count": 45,
   "metadata": {
    "colab": {
     "base_uri": "https://localhost:8080/"
    },
    "id": "Fdn4oIEav3pb",
    "outputId": "16e644b5-48bd-4e5a-8f4b-892ecf0e4b95"
   },
   "outputs": [
    {
     "name": "stdout",
     "output_type": "stream",
     "text": [
      "157/157 [==============================] - 0s 645us/step - loss: 0.2822 - accuracy: 0.9080\n",
      "Train Data, Loss: 0.2822, Accuracy: 0.9080\n",
      "20/20 [==============================] - 0s 400us/step - loss: 0.4941 - accuracy: 0.8045\n",
      "Test Data, Loss: 0.4941, Accuracy: 0.8045\n",
      "8/8 [==============================] - 0s 500us/step - loss: 0.3610 - accuracy: 0.8750\n",
      "Val Data, Loss: 0.3610, Accuracy: 0.8750\n"
     ]
    }
   ],
   "source": [
    "model_evaluation(model_4, data_dict_norm)"
   ]
  },
  {
   "cell_type": "markdown",
   "metadata": {
    "id": "X7DAJhrRw2py"
   },
   "source": [
    "### Model 5"
   ]
  },
  {
   "cell_type": "code",
   "execution_count": 70,
   "metadata": {
    "id": "JOrp8wdEPJFK"
   },
   "outputs": [],
   "source": [
    "model_5 = models.Sequential()"
   ]
  },
  {
   "cell_type": "code",
   "execution_count": 71,
   "metadata": {
    "id": "YUyWdujQPJMf"
   },
   "outputs": [],
   "source": [
    "model_5.add(layers.Input(shape=(64, 64, 3)))\n",
    "model_5.add(layers.Conv2D(16, (5, 5), activation='relu'))\n",
    "model_5.add(layers.BatchNormalization())\n",
    "model_5.add(layers.MaxPooling2D())\n",
    "\n",
    "model_5.add(layers.Conv2D(32, (3, 3), activation='relu', padding='same'))\n",
    "model_5.add(layers.BatchNormalization())\n",
    "\n",
    "model_5.add(layers.Conv2D(32, (3, 3), activation='relu', padding='same', kernel_regularizer=l2(l2=0.000001)))\n",
    "model_5.add(layers.BatchNormalization())\n",
    "model_5.add(layers.Dropout(0.5))\n",
    "model_5.add(layers.MaxPooling2D())\n",
    "\n",
    "model_5.add(layers.Conv2D(64, (3, 3), activation='relu', padding='same'))\n",
    "\n",
    "model_5.add(layers.Conv2D(64, (3, 3), activation='relu', padding='valid'))\n",
    "model_5.add(layers.MaxPooling2D())\n",
    "\n",
    "#model_5.add(layers.Conv2D(128, (3, 3), activation='relu', padding='same'))\n",
    "#model_5.add(layers.Dropout(0.25))\n",
    "\n",
    "model_5.add(layers.Conv2D(128, (3, 3), activation='relu', padding='valid', kernel_regularizer=l2(l2=0.00001)))\n",
    "model_5.add(layers.Dropout(0.1))\n",
    "model_5.add(layers.MaxPooling2D())\n",
    "\n",
    "model_5.add(layers.Flatten())\n",
    "model_5.add(layers.Dense(2, activation='softmax'))"
   ]
  },
  {
   "cell_type": "code",
   "execution_count": 72,
   "metadata": {
    "id": "VVM8cM4jPJSa"
   },
   "outputs": [],
   "source": [
    "model_5.compile(Adam(learning_rate=0.00003), loss='categorical_crossentropy', metrics=['accuracy'])"
   ]
  },
  {
   "cell_type": "code",
   "execution_count": 73,
   "metadata": {
    "colab": {
     "base_uri": "https://localhost:8080/"
    },
    "id": "hYTtmz7HTYes",
    "outputId": "60691833-fb08-4ed8-d451-7a9d9e99a9a8"
   },
   "outputs": [
    {
     "name": "stdout",
     "output_type": "stream",
     "text": [
      "Epoch 1/10\n",
      "7/7 - 6s - loss: 1.3841 - accuracy: 0.2614 - val_loss: 1.7525 - val_accuracy: 0.5000\n",
      "Epoch 2/10\n",
      "7/7 - 6s - loss: 0.7625 - accuracy: 0.5676 - val_loss: 0.8192 - val_accuracy: 0.5000\n",
      "Epoch 3/10\n",
      "7/7 - 6s - loss: 0.6246 - accuracy: 0.7380 - val_loss: 0.7257 - val_accuracy: 0.4310\n",
      "Epoch 4/10\n",
      "7/7 - 6s - loss: 0.6357 - accuracy: 0.7490 - val_loss: 0.7233 - val_accuracy: 0.4267\n",
      "Epoch 5/10\n",
      "7/7 - 6s - loss: 0.6155 - accuracy: 0.7500 - val_loss: 0.7213 - val_accuracy: 0.4440\n",
      "Epoch 6/10\n",
      "7/7 - 6s - loss: 0.5961 - accuracy: 0.7496 - val_loss: 0.7208 - val_accuracy: 0.4828\n",
      "Epoch 7/10\n",
      "7/7 - 6s - loss: 0.5758 - accuracy: 0.7506 - val_loss: 0.7212 - val_accuracy: 0.5000\n",
      "Epoch 8/10\n",
      "7/7 - 6s - loss: 0.5623 - accuracy: 0.7500 - val_loss: 0.7210 - val_accuracy: 0.5000\n",
      "Epoch 9/10\n",
      "7/7 - 6s - loss: 0.5583 - accuracy: 0.7466 - val_loss: 0.7189 - val_accuracy: 0.5000\n",
      "Epoch 10/10\n",
      "7/7 - 6s - loss: 0.5446 - accuracy: 0.7534 - val_loss: 0.7144 - val_accuracy: 0.5086\n"
     ]
    }
   ],
   "source": [
    "model_5_results = model_5.fit(train_images, train_labels,\n",
    "                              epochs=10, batch_size=800,\n",
    "                              validation_data=(val_images, val_labels),\n",
    "                              callbacks=[early_stop, reduce_lr],\n",
    "                              verbose=2)"
   ]
  },
  {
   "cell_type": "code",
   "execution_count": 74,
   "metadata": {
    "id": "QiP4NLSWPJU1"
   },
   "outputs": [
    {
     "data": {
      "image/png": "[encoded data removed]",
      "text/plain": [
       "<Figure size 720x360 with 2 Axes>"
      ]
     },
     "metadata": {
      "needs_background": "light"
     },
     "output_type": "display_data"
    }
   ],
   "source": [
    "plot_results([model_5_results])"
   ]
  },
  {
   "cell_type": "code",
   "execution_count": 75,
   "metadata": {
    "id": "6HfcjlHExBTO",
    "scrolled": false
   },
   "outputs": [
    {
     "name": "stdout",
     "output_type": "stream",
     "text": [
      "157/157 [==============================] - 1s 9ms/step - loss: 0.7667 - accuracy: 0.3090\n",
      "Train Data, Loss: 0.7667, Accuracy: 0.3090\n",
      "20/20 [==============================] - 0s 9ms/step - loss: 0.7474 - accuracy: 0.4054\n",
      "Test Data, Loss: 0.7474, Accuracy: 0.4054\n",
      "8/8 [==============================] - 0s 8ms/step - loss: 0.7144 - accuracy: 0.5086\n",
      "Val Data, Loss: 0.7144, Accuracy: 0.5086\n"
     ]
    }
   ],
   "source": [
    "model_evaluation(model_5, data_dict)"
   ]
  },
  {
   "cell_type": "markdown",
   "metadata": {
    "id": "o0rNODkgXICF"
   },
   "source": [
    "# Evaluation"
   ]
  },
  {
   "cell_type": "markdown",
   "metadata": {
    "id": "Gc-dnsYjAKAO"
   },
   "source": [
    "The model that performed the best overall and will be the final model is model 5, the Convolutional Neural Network. Although this model has a rough start, it quickly course corrects and starts to learn from the data leading the model to generalize better resulting in quickly lowering train and validation loss, and increasing accuracy and validation accuracy."
   ]
  },
  {
   "cell_type": "markdown",
   "metadata": {
    "id": "pjyDO3NHw7Mr"
   },
   "source": [
    "### Final Model"
   ]
  },
  {
   "cell_type": "code",
   "execution_count": null,
   "metadata": {
    "id": "R-2l8bIOyHFT"
   },
   "outputs": [],
   "source": [
    "final_model = Sequential()"
   ]
  },
  {
   "cell_type": "code",
   "execution_count": null,
   "metadata": {
    "id": "vo07cddkyG9k"
   },
   "outputs": [],
   "source": [
    "final_model.add(layers.Input(shape=(64, 64, 3)))\n",
    "final_model.add(layers.Conv2D(16, (5, 5), activation='relu'))\n",
    "final_model.add(layers.BatchNormalization())\n",
    "final_model.add(layers.MaxPooling2D())\n",
    "\n",
    "final_model.add(layers.Conv2D(32, (3, 3), activation='relu', padding='same'))\n",
    "final_model.add(layers.BatchNormalization())\n",
    "\n",
    "final_model.add(layers.Conv2D(32, (3, 3), activation='relu', padding='same', kernel_regularizer=l2(l2=0.00001)))\n",
    "final_model.add(layers.BatchNormalization())\n",
    "final_model.add(layers.Dropout(0.5))\n",
    "final_model.add(layers.MaxPooling2D())\n",
    "\n",
    "final_model.add(layers.Conv2D(64, (5, 5), activation='relu', padding='same'))\n",
    "\n",
    "final_model.add(layers.Conv2D(64, (3, 3), activation='relu', padding='valid'))\n",
    "final_model.add(layers.MaxPooling2D())\n",
    "\n",
    "final_model.add(layers.Conv2D(128, (3, 3), activation='relu', padding='same'))\n",
    "\n",
    "final_model.add(layers.Conv2D(128, (3, 3), activation='relu', padding='valid', kernel_regularizer=l2(l2=0.00001)))\n",
    "final_model.add(layers.Dropout(0.1))\n",
    "final_model.add(layers.MaxPooling2D())\n",
    "\n",
    "final_model.add(layers.Flatten())\n",
    "final_model.add(layers.Dense(2, activation='softmax'))"
   ]
  },
  {
   "cell_type": "code",
   "execution_count": null,
   "metadata": {
    "id": "DZSCRgASyNyT"
   },
   "outputs": [],
   "source": [
    "final_model.compile(Adam(learning_rate=0.00003), loss='binary_crossentropy', metrics=['accuracy'])"
   ]
  },
  {
   "cell_type": "code",
   "execution_count": null,
   "metadata": {
    "id": "qwX-thBGyG6-"
   },
   "outputs": [],
   "source": [
    "final_model_results = final_model.fit(train_images, train_labels,\n",
    "                                      epochs=100, batch_size=600,\n",
    "                                      validation_data=(val_images, val_labels),\n",
    "                                      callbacks=[early_stop, reduce_lr])"
   ]
  },
  {
   "cell_type": "code",
   "execution_count": null,
   "metadata": {
    "id": "xWUJV0o1yGuw"
   },
   "outputs": [],
   "source": [
    "plot_results([final_model_results])"
   ]
  },
  {
   "cell_type": "code",
   "execution_count": null,
   "metadata": {
    "id": "HC9Wlnp9yU1W"
   },
   "outputs": [],
   "source": [
    "model_evaluation(final_model, data_dict)"
   ]
  },
  {
   "cell_type": "code",
   "execution_count": null,
   "metadata": {
    "collapsed": true,
    "id": "XZ5RVGZVyUxs"
   },
   "outputs": [],
   "source": [
    "test_img_pred = final_model.predict(test_images)\n",
    "\n",
    "# Plotting Confusion Matrix of final Model\n",
    "fig, ax = plt.subplots(figsize=(10, 8))\n",
    "\n",
    "ax.set_title('Final Model Results')\n",
    "\n",
    "test_img_pred_labels = np.argmax(test_img_pred, axis=1)\n",
    "test_true_labels = np.argmax(test_labels, axis=1)\n",
    "\n",
    "cm = confusion_matrix(test_img_pred_labels, test_true_labels)\n",
    "\n",
    "ConfusionMatrixDisplay(confusion_matrix=cm,\n",
    "                       display_labels=['Neg-Pneumonia', 'Pos-Pneumonia']).plot(ax=ax, cmap='Blues', colorbar=False)\n",
    "\n",
    "plt.tight_layout();"
   ]
  },
  {
   "cell_type": "markdown",
   "metadata": {
    "id": "CwuW2eWQxye_"
   },
   "source": [
    "# Limitations"
   ]
  },
  {
   "cell_type": "markdown",
   "metadata": {
    "id": "QFIwzrsVzMnN"
   },
   "source": [
    "A limitation I encountered in this project is the data itself and how heavily weighted it is towards pneumonia positive. While there are methods that can help alleviate the class weight imbalance and maybe even lessen model bias through the creation of synthetic data, synthetic data generated from these methods isn't as reliable as real data."
   ]
  },
  {
   "cell_type": "markdown",
   "metadata": {
    "id": "3KQfGqL-xzUw"
   },
   "source": [
    "# Next Steps"
   ]
  },
  {
   "cell_type": "markdown",
   "metadata": {
    "id": "ZCJsC7xzx_qz"
   },
   "source": [
    "For some next steps, further model tweaks and parameter tuning may be necessary to improve the model overall performance. While an 86% is not terrible for accuracy with unseen test data, it does leave a little more to be desired especially with a loss of nearly .30 this tells us the model is missing the mark a little less than a third of the time.\n",
    "\n",
    "Another potential next step if time permits would be using other Convolutional neural networks such as ResNet, DenseNet or ViT (Vision Transformers) image classification algorithms and comparing results to the current final model as the base model.\n",
    "\n",
    "Lastly, the next step I believe can be greatly benificial to the overall project is gathering more data, especially gathering more x-ray images of healthy pnuemonia free lungs. As stated before the data's class weights are heavily weighted towards pnuemonia positive which can lead to model bias."
   ]
  }
 ],
 "metadata": {
  "accelerator": "GPU",
  "colab": {
   "authorship_tag": "ABX9TyODdMoPAYJQ0P3wyhFXw2QG",
   "gpuType": "T4",
   "mount_file_id": "1m_mUnKHfPCWKoLhOwW1zUkO5IieyrrtE",
   "provenance": []
  },
  "kernelspec": {
   "display_name": "Python 3",
   "language": "python",
   "name": "python3"
  },
  "language_info": {
   "codemirror_mode": {
    "name": "ipython",
    "version": 3
   },
   "file_extension": ".py",
   "mimetype": "text/x-python",
   "name": "python",
   "nbconvert_exporter": "python",
   "pygments_lexer": "ipython3",
   "version": "3.8.5"
  }
 },
 "nbformat": 4,
 "nbformat_minor": 1
}
